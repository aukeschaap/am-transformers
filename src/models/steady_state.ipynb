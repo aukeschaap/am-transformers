{
 "cells": [
  {
   "attachments": {},
   "cell_type": "markdown",
   "metadata": {},
   "source": [
    "# Steady state solution"
   ]
  },
  {
   "cell_type": "code",
   "execution_count": 57,
   "metadata": {},
   "outputs": [],
   "source": [
    "using gmsh\n",
    "\n",
    "using LinearAlgebra, SparseArrays\n",
    "using WriteVTK\n",
    "\n",
    "using BenchmarkTools\n",
    "\n",
    "include(\"../constants.jl\")\n",
    "include(\"../get_mesh_data.jl\")\n",
    "include(\"../process.jl\")\n",
    "include(\"../definitions/source.jl\")\n",
    "include(\"../definitions/linear_reluctivity.jl\")\n",
    "include(\"../definitions/assemble_Kf.jl\")\n",
    "\n",
    "const MESH_LOCATION = \"../../mesh/transformer_stedin.msh\"\n",
    "const OUTPUT_LOCATION = \"../../out/\"\n",
    "\n",
    "using Logging"
   ]
  },
  {
   "cell_type": "code",
   "execution_count": 58,
   "metadata": {},
   "outputs": [
    {
     "name": "stdout",
     "output_type": "stream",
     "text": [
      "Info    : Reading '../../mesh/transformer_stedin.msh'...\n",
      "Info    : 168 entities\n",
      "Info    : 10385 nodes\n",
      "Info    : 20768 elements\n",
      "Info    : Done reading '../../mesh/transformer_stedin.msh'\n"
     ]
    }
   ],
   "source": [
    "gmsh.open(MESH_LOCATION)\n",
    "mshdata = get_mesh_data();"
   ]
  },
  {
   "attachments": {},
   "cell_type": "markdown",
   "metadata": {},
   "source": [
    "## Problem definition\n",
    "\n",
    "Find $A_z$ in the system\n",
    "$$ -\\nabla \\times \\left[\\frac{1}{\\mu}\\nabla A_z\\right] = \\mathbf J_0, $$\n",
    "where\n",
    "- $A_z$ is the current density in the $z$ direction.\n",
    "- $\\mu$ is the permeability of the core.\n",
    "- $\\mathbf J_0$ is the imposed source current density.\n",
    "- $\\sigma$: the conductivity of the material (not used)."
   ]
  },
  {
   "attachments": {},
   "cell_type": "markdown",
   "metadata": {},
   "source": [
    "### Parameters"
   ]
  },
  {
   "cell_type": "code",
   "execution_count": 59,
   "metadata": {},
   "outputs": [],
   "source": [
    "\"Primary peak phase current\"\n",
    "Ip = 0;\n",
    "\n",
    "\"Secondary peak phase current\"\n",
    "Is = 777.62;\n",
    "\n",
    "Np = 266;\n",
    "Ns = 6;\n",
    "\n",
    "# Calculate current density in the windings\n",
    "Jp = Np * Ip / Awhv;\n",
    "Js = Ns * Is / Awlv;\n",
    "\n",
    "# Vacuum permeability\n",
    "mu0 = 4e-7 * pi;\n",
    "\n",
    "# Relative permeability of the core\n",
    "mur = 1000;    "
   ]
  },
  {
   "attachments": {},
   "cell_type": "markdown",
   "metadata": {},
   "source": [
    "### Source, linear reluctivity per element (no conductivity due to steady state)\n"
   ]
  },
  {
   "cell_type": "code",
   "execution_count": 60,
   "metadata": {},
   "outputs": [],
   "source": [
    "group_id_per_element = mshdata.e_group\n",
    "\n",
    "source_func(group_id) = Jp * exp(1im * 2pi/3) * (-1 * (group_id==3) + 1 * (group_id==4)) + \n",
    "                           Jp * (-1 * (group_id==5) + 1 * (group_id==6)) + \n",
    "                           Jp * exp(-1im * 2pi/3) * (-1 * (group_id==7) + 1 * (group_id==8)) + \n",
    "                           Js * exp(1im * 2pi/3) * (1 * (group_id==9) - 1 * (group_id==10)) +\n",
    "                           Js * (1 * (group_id==11) - 1 * (group_id==12)) + \n",
    "                           Js * exp(-1im * 2pi/3) * (1 * (group_id==13) - 1 * (group_id==14));\n",
    "source_per_element = map(source_func, group_id_per_element);\n",
    "\n",
    "# Relative permeability model\n",
    "reluctivity_per_element = map(linear_reluctivity, group_id_per_element);\n",
    "\n",
    "zero_conductivity(group_id) = 0\n",
    "conductivity_per_element = map(zero_conductivity, group_id_per_element);"
   ]
  },
  {
   "attachments": {},
   "cell_type": "markdown",
   "metadata": {},
   "source": [
    "## System of equations"
   ]
  },
  {
   "cell_type": "code",
   "execution_count": 64,
   "metadata": {},
   "outputs": [
    {
     "data": {
      "text/plain": [
       "(sparse([1, 73, 292, 3543, 2, 123, 124, 3544, 3, 182  …  2470, 10311, 10382, 10384, 72, 2543, 2544, 10310, 10383, 10385], [1, 1, 1, 1, 2, 2, 2, 2, 3, 3  …  10384, 10384, 10384, 10384, 10385, 10385, 10385, 10385, 10385, 10385], ComplexF64[1.0 + 0.0im, 0.0 + 0.0im, 0.0 + 0.0im, -296302.7798814594 + 0.0im, 1.0 + 0.0im, 0.0 + 0.0im, 0.0 + 0.0im, -296302.7798870144 + 0.0im, 1.0 + 0.0im, 0.0 + 0.0im  …  -831566.3069097897 + 0.0im, -313835.0144328627 + 0.0im, -677428.4886853056 + 0.0im, 3.0142441240861635e6 + 0.0im, -578864.0635942314 + 0.0im, -612550.2504638598 + 0.0im, -831566.3069096752 + 0.0im, -313835.01443294587 + 0.0im, -677428.4886854272 + 0.0im, 3.0142441240861393e6 + 0.0im], 10385, 10385), ComplexF64[0.0 + 0.0im; 0.0 + 0.0im; … ; 7.496634577631168 + 12.98455197423484im; 7.4966345776312595 + 12.984551974234996im;;])"
      ]
     },
     "metadata": {},
     "output_type": "display_data"
    }
   ],
   "source": [
    "\n",
    "# with_logger(ConsoleLogger(stderr, Logging.Debug)) do\n",
    "K, f = assemble_Kf(mshdata, source_per_element, reluctivity_per_element);\n",
    "# end\n"
   ]
  },
  {
   "attachments": {},
   "cell_type": "markdown",
   "metadata": {},
   "source": [
    "How long does this take?"
   ]
  },
  {
   "cell_type": "code",
   "execution_count": 65,
   "metadata": {},
   "outputs": [],
   "source": [
    "# @timev K, f = assemble_Kf(mshdata, source_per_element, reluctivity_per_element);"
   ]
  },
  {
   "attachments": {},
   "cell_type": "markdown",
   "metadata": {},
   "source": [
    "Solve the system."
   ]
  },
  {
   "cell_type": "code",
   "execution_count": 66,
   "metadata": {},
   "outputs": [],
   "source": [
    "u = K \\ f;"
   ]
  },
  {
   "attachments": {},
   "cell_type": "markdown",
   "metadata": {},
   "source": [
    "## Post"
   ]
  },
  {
   "cell_type": "code",
   "execution_count": 67,
   "metadata": {},
   "outputs": [],
   "source": [
    "# Post-process for magnetic field and current density\n",
    "omega = 0\n",
    "B, H, Wm, Jel = process(mshdata, u, source_per_element, reluctivity_per_element, conductivity_per_element, omega);\n",
    "Bnorm = norm.(sqrt.(B[1].^2 + B[2].^2));"
   ]
  },
  {
   "attachments": {},
   "cell_type": "markdown",
   "metadata": {},
   "source": [
    "Save the result"
   ]
  },
  {
   "cell_type": "code",
   "execution_count": 68,
   "metadata": {},
   "outputs": [
    {
     "name": "stdout",
     "output_type": "stream",
     "text": [
      "Saving result in a file... Done.\n"
     ]
    }
   ],
   "source": [
    "# Define nodes (points) and elements (cells)\n",
    "points = [mshdata.xnode mshdata.ynode]';\n",
    "cells = [MeshCell(VTKCellTypes.VTK_TRIANGLE, el) for el in mshdata.elements];\n",
    "\n",
    "# Create VTK file structure using nodes and elements\n",
    "vtkfile = vtk_grid(string(OUTPUT_LOCATION, \"transformer7.vtu\"), points, cells);\n",
    "\n",
    "# Store data in the VTK file\n",
    "vtkfile[\"Az\", VTKPointData()]   = norm.(u);\n",
    "vtkfile[\"imA\", VTKPointData()]  = imag.(u);\n",
    "vtkfile[\"Bnorm\", VTKCellData()] = Bnorm;\n",
    "vtkfile[\"Jel\", VTKCellData()]   = Jel;\n",
    "\n",
    "# Save the file\n",
    "print(\"Saving result in a file...\")\n",
    "outfiles = vtk_save(vtkfile);\n",
    "println(\" Done.\")"
   ]
  }
 ],
 "metadata": {
  "kernelspec": {
   "display_name": "Julia 1.8.5",
   "language": "julia",
   "name": "julia-1.8"
  },
  "language_info": {
   "file_extension": ".jl",
   "mimetype": "application/julia",
   "name": "julia",
   "version": "1.8.5"
  },
  "orig_nbformat": 4
 },
 "nbformat": 4,
 "nbformat_minor": 2
}
