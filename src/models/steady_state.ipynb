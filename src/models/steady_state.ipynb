{
 "cells": [
  {
   "attachments": {},
   "cell_type": "markdown",
   "metadata": {},
   "source": [
    "# Steady state solution"
   ]
  },
  {
   "cell_type": "code",
   "execution_count": 3,
   "metadata": {},
   "outputs": [
    {
     "name": "stderr",
     "output_type": "stream",
     "text": [
      "Error   : Gmsh has not been initialized\n"
     ]
    },
    {
     "data": {
      "text/plain": [
       "\"./out/\""
      ]
     },
     "metadata": {},
     "output_type": "display_data"
    }
   ],
   "source": [
    "using gmsh\n",
    "\n",
    "using LinearAlgebra, SparseArrays\n",
    "using WriteVTK\n",
    "\n",
    "using BenchmarkTools\n",
    "\n",
    "include(\"../constants.jl\")\n",
    "include(\"../get_mesh_data.jl\")\n",
    "include(\"../process.jl\")\n",
    "include(\"../definitions/source.jl\")\n",
    "include(\"../definitions/linear_reluctivity.jl\")\n",
    "include(\"../definitions/assemble_Kf.jl\")\n",
    "\n",
    "const MESH_LOCATION = \"../../mesh/transformer_stedin.msh\"\n",
    "const OUTPUT_LOCATION = \"./out/\""
   ]
  },
  {
   "cell_type": "code",
   "execution_count": 4,
   "metadata": {},
   "outputs": [
    {
     "name": "stdout",
     "output_type": "stream",
     "text": [
      "Info    : Reading '../../mesh/transformer_stedin.msh'...\n",
      "Info    : 168 entities\n",
      "Info    : 10385 nodes\n",
      "Info    : 20768 elements\n",
      "Info    : Done reading '../../mesh/transformer_stedin.msh'\n"
     ]
    }
   ],
   "source": [
    "gmsh.open(MESH_LOCATION)\n",
    "mshdata = get_mesh_data();"
   ]
  },
  {
   "attachments": {},
   "cell_type": "markdown",
   "metadata": {},
   "source": [
    "## Problem definition\n",
    "\n",
    "Find $A_z$ in the system\n",
    "$$ -\\nabla \\times \\left[\\frac{1}{\\mu}\\nabla A_z\\right] = \\mathbf J_0, $$\n",
    "where\n",
    "- $A_z$ is the current density in the $z$ direction.\n",
    "- $\\mu$ is the permeability of the core.\n",
    "- $\\mathbf J_0$ is the imposed source current density.\n",
    "- $\\sigma$: the conductivity of the material (not used)."
   ]
  },
  {
   "attachments": {},
   "cell_type": "markdown",
   "metadata": {},
   "source": [
    "### Parameters"
   ]
  },
  {
   "cell_type": "code",
   "execution_count": 5,
   "metadata": {},
   "outputs": [],
   "source": [
    "\"Primary peak phase current\"\n",
    "Ip = 0;\n",
    "\n",
    "\"Secondary peak phase current\"\n",
    "Is = 777.62;\n",
    "\n",
    "Np = 266;\n",
    "Ns = 6;\n",
    "\n",
    "# Calculate current density in the windings\n",
    "Jp = Np * Ip / Awhv;\n",
    "Js = Ns * Is / Awlv;\n",
    "\n",
    "# Vacuum permeability\n",
    "mu0 = 4e-7 * pi;\n",
    "\n",
    "# Relative permeability of the core\n",
    "mur = 1000;       "
   ]
  },
  {
   "attachments": {},
   "cell_type": "markdown",
   "metadata": {},
   "source": [
    "### Source, linear reluctivity (no conductivity due to steady state)\n"
   ]
  },
  {
   "cell_type": "code",
   "execution_count": 10,
   "metadata": {},
   "outputs": [
    {
     "data": {
      "text/plain": [
       "1×20544 Matrix{Int64}:\n",
       " 0  0  0  0  0  0  0  0  0  0  0  0  0  …  0  0  0  0  0  0  0  0  0  0  0  0"
      ]
     },
     "metadata": {},
     "output_type": "display_data"
    }
   ],
   "source": [
    "group_id_per_element = mshdata.e_group\n",
    "source_per_element = map(source, group_id_per_element);\n",
    "\n",
    "# Relative permeability model\n",
    "reluctivity_per_element = map(linear_reluctivity, group_id_per_element);\n",
    "\n",
    "zero_conductivity(group_id) = 0\n",
    "conductivity_per_element = map(zero_conductivity, group_id_per_element);"
   ]
  },
  {
   "attachments": {},
   "cell_type": "markdown",
   "metadata": {},
   "source": [
    "## System of equations"
   ]
  },
  {
   "cell_type": "code",
   "execution_count": 7,
   "metadata": {},
   "outputs": [],
   "source": [
    "K, f = assemble_steadystate(mshdata, source_per_element, reluctivity_per_element);"
   ]
  },
  {
   "attachments": {},
   "cell_type": "markdown",
   "metadata": {},
   "source": [
    "Solve the system."
   ]
  },
  {
   "cell_type": "code",
   "execution_count": 8,
   "metadata": {},
   "outputs": [],
   "source": [
    "u = K \\ f;"
   ]
  },
  {
   "attachments": {},
   "cell_type": "markdown",
   "metadata": {},
   "source": [
    "## Post"
   ]
  },
  {
   "cell_type": "code",
   "execution_count": 12,
   "metadata": {},
   "outputs": [],
   "source": [
    "# Post-process for magnetic field and current density\n",
    "omega = 0\n",
    "B, H, Wm, Jel = process(mshdata, u, source_per_element, reluctivity_per_element, conductivity_per_element, omega);\n",
    "Bnorm = norm.(sqrt.(B[1].^2 + B[2].^2));"
   ]
  },
  {
   "attachments": {},
   "cell_type": "markdown",
   "metadata": {},
   "source": [
    "Save the result"
   ]
  },
  {
   "cell_type": "code",
   "execution_count": 7,
   "metadata": {},
   "outputs": [
    {
     "ename": "UndefVarError",
     "evalue": "UndefVarError: mshdata not defined",
     "output_type": "error",
     "traceback": [
      "UndefVarError: mshdata not defined\n",
      "\n",
      "Stacktrace:\n",
      " [1] top-level scope\n",
      "   @ c:\\Users\\TUDelftSID\\OneDrive - Delft University of Technology\\Documenten\\TUD\\AM 1e jaar\\Advanced Modelling\\am-transformers\\src\\models\\steady_state.ipynb:2"
     ]
    }
   ],
   "source": [
    "# Define nodes (points) and elements (cells)\n",
    "points = [mshdata.xnode mshdata.ynode]';\n",
    "cells = [MeshCell(VTKCellTypes.VTK_TRIANGLE, el) for el in mshdata.elements];\n",
    "\n",
    "# Create VTK file structure using nodes and elements\n",
    "vtkfile = vtk_grid(string(OUTPUT_LOCATION, \"transformer1.vtu\"), points, cells);\n",
    "\n",
    "# Store data in the VTK file\n",
    "vtkfile[\"Az\", VTKPointData()]   = norm.(u);\n",
    "vtkfile[\"imA\", VTKPointData()]  = imag.(u);\n",
    "vtkfile[\"Bnorm\", VTKCellData()] = Bnorm;\n",
    "vtkfile[\"Jel\", VTKCellData()]   = Jel;\n",
    "\n",
    "# Save the file\n",
    "print(\"Saving result in a file...\")\n",
    "outfiles = vtk_save(vtkfile);\n",
    "println(\" Done.\")"
   ]
  }
 ],
 "metadata": {
  "kernelspec": {
   "display_name": "Julia 1.8.5",
   "language": "julia",
   "name": "julia-1.8"
  },
  "language_info": {
   "file_extension": ".jl",
   "mimetype": "application/julia",
   "name": "julia",
   "version": "1.8.5"
  },
  "orig_nbformat": 4
 },
 "nbformat": 4,
 "nbformat_minor": 2
}
