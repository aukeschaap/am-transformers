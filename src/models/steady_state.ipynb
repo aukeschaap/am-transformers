{
 "cells": [
  {
   "attachments": {},
   "cell_type": "markdown",
   "metadata": {},
   "source": [
    "# Steady state solution"
   ]
  },
  {
   "cell_type": "code",
   "execution_count": null,
   "metadata": {},
   "outputs": [],
   "source": [
    "using gmsh\n",
    "\n",
    "using LinearAlgebra, SparseArrays\n",
    "using WriteVTK\n",
    "\n",
    "using BenchmarkTools\n",
    "\n",
    "include(\"../constants.jl\")\n",
    "include(\"../get_mesh_data.jl\")\n",
    "include(\"../process.jl\")\n",
    "include(\"../definitions/assemble_steadystate.jl\")\n",
    "\n",
    "const MESH_LOCATION = \"./mesh/transformer_stedin.msh\"\n",
    "const OUTPUT_LOCATION = \"./out/\"\n",
    "\n",
    "gmsh.open(MESH_LOCATION)\n",
    "mshdata = get_mesh_data();"
   ]
  },
  {
   "attachments": {},
   "cell_type": "markdown",
   "metadata": {},
   "source": [
    "### Constants"
   ]
  },
  {
   "cell_type": "code",
   "execution_count": null,
   "metadata": {},
   "outputs": [],
   "source": [
    "\"Primary peak phase current\"\n",
    "Ip = 0;\n",
    "\n",
    "\"Secondary peak phase current\"\n",
    "Is = 777.62;\n",
    "\n",
    "Np = 266;\n",
    "Ns = 6;\n",
    "\n",
    "# Calculate current density in the windings\n",
    "Jp = Np * Ip / Awhv;\n",
    "Js = Ns * Is / Awlv;"
   ]
  },
  {
   "attachments": {},
   "cell_type": "markdown",
   "metadata": {},
   "source": [
    "## Problem definition\n",
    "\n",
    "Find $A_z$ in the system\n",
    "$$ -\\nabla \\times \\left[\\frac{1}{\\mu}\\nabla A_z\\right] = \\mathbf J_0, $$\n",
    "where\n",
    "- $A_z$ is the current density in the $z$ direction.\n",
    "- $\\mu$ is the permeability of the core.\n",
    "- $\\mathbf J_0$ is the imposed source current density.\n",
    "- $\\sigma$: the conductivity of the material (not used)."
   ]
  },
  {
   "attachments": {},
   "cell_type": "markdown",
   "metadata": {},
   "source": [
    "### Source, reluctivity, conductivity\n",
    "\n"
   ]
  },
  {
   "cell_type": "code",
   "execution_count": 1,
   "metadata": {},
   "outputs": [
    {
     "ename": "UndefVarError",
     "evalue": "UndefVarError: mshdata not defined",
     "output_type": "error",
     "traceback": [
      "UndefVarError: mshdata not defined\n",
      "\n",
      "Stacktrace:\n",
      " [1] top-level scope\n",
      "   @ c:\\Users\\aukes\\Documents\\repos\\git\\am-transformers\\src\\models\\steady_state.ipynb:15"
     ]
    }
   ],
   "source": [
    "\"\"\"\n",
    "# Source current density J\n",
    "\n",
    "One term for each of the windings, with a positive and negative part. Note the phase shift between\n",
    "the phases.\n",
    "\"\"\"\n",
    "function source_func(group_id)\n",
    "    Jp * exp(1im * 2pi/3) * (-1 * (group_id==3) + 1 * (group_id==4))\n",
    "    + Jp * (-1 * (group_id==5) + 1 * (group_id==6))\n",
    "    + Jp * exp(-1im * 2pi/3) * (-1 * (group_id==7) + 1 * (group_id==8))\n",
    "    + Js * exp(1im * 2pi/3) * (1 * (group_id==9) - 1 * (group_id==10))\n",
    "    + Js * (1 * (group_id==11) - 1 * (group_id==12))\n",
    "    + Js * exp(-1im * 2pi/3) * (1 * (group_id==13) - 1 * (group_id==14));\n",
    "end\n",
    "source_per_element = map(source_func, mshdata.e_group);\n",
    "\n",
    "\n",
    "# Relative permeability model\n",
    "mu0 = 4e-7 * pi;\n",
    "mur = 1000;       # Relative permeability of the core\n",
    "reluctivity_func(group_id) = (1 / mu0) + (1/(mu0*mur) - 1/mu0) * (group_id == 2)\n",
    "reluctivity_per_element = map(reluctivity_func, mshdata.e_group);\n",
    "\n",
    "\n",
    "# Conductivity\n",
    "conductivity_func(group_id) = 0;\n",
    "conductivity_per_element = map(conductivity_func, mshdata.e_group);"
   ]
  },
  {
   "attachments": {},
   "cell_type": "markdown",
   "metadata": {},
   "source": [
    "## System of equations"
   ]
  },
  {
   "cell_type": "code",
   "execution_count": null,
   "metadata": {},
   "outputs": [],
   "source": [
    "K, f = assemble_steadystate(mshdata, source_per_element, reluctivity_per_element);"
   ]
  },
  {
   "attachments": {},
   "cell_type": "markdown",
   "metadata": {},
   "source": [
    "Solve the system."
   ]
  },
  {
   "cell_type": "code",
   "execution_count": null,
   "metadata": {},
   "outputs": [],
   "source": [
    "u = K \\ f;"
   ]
  },
  {
   "attachments": {},
   "cell_type": "markdown",
   "metadata": {},
   "source": [
    "## Post"
   ]
  },
  {
   "cell_type": "code",
   "execution_count": null,
   "metadata": {},
   "outputs": [],
   "source": [
    "# Post-process for magnetic field and current density\n",
    "B, H, Wm, Jel = process(mshdata, u, source_per_element, reluctivity_per_element, conductivity_per_element, omega);\n",
    "Bnorm = norm.(sqrt.(B[1].^2 + B[2].^2));"
   ]
  },
  {
   "attachments": {},
   "cell_type": "markdown",
   "metadata": {},
   "source": [
    "Save the result"
   ]
  },
  {
   "cell_type": "code",
   "execution_count": null,
   "metadata": {},
   "outputs": [],
   "source": [
    "# Define nodes (points) and elements (cells)\n",
    "points = [mshdata.xnode mshdata.ynode]';\n",
    "cells = [MeshCell(VTKCellTypes.VTK_TRIANGLE, el) for el in mshdata.elements];\n",
    "\n",
    "# Create VTK file structure using nodes and elements\n",
    "vtkfile = vtk_grid(string(OUTPUT_LOCATION, \"transformer1.vtu\"), points, cells);\n",
    "\n",
    "# Store data in the VTK file\n",
    "vtkfile[\"Az\", VTKPointData()]   = norm.(u);\n",
    "vtkfile[\"imA\", VTKPointData()]  = imag.(u);\n",
    "vtkfile[\"Bnorm\", VTKCellData()] = Bnorm;\n",
    "vtkfile[\"Jel\", VTKCellData()]   = Jel;\n",
    "\n",
    "# Save the file\n",
    "print(\"Saving result in a file...\")\n",
    "outfiles = vtk_save(vtkfile);\n",
    "println(\" Done.\")"
   ]
  }
 ],
 "metadata": {
  "kernelspec": {
   "display_name": "Julia 1.8.5",
   "language": "julia",
   "name": "julia-1.8"
  },
  "language_info": {
   "file_extension": ".jl",
   "mimetype": "application/julia",
   "name": "julia",
   "version": "1.8.5"
  },
  "orig_nbformat": 4
 },
 "nbformat": 4,
 "nbformat_minor": 2
}
