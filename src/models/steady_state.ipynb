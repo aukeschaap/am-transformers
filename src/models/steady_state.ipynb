{
 "cells": [
  {
   "attachments": {},
   "cell_type": "markdown",
   "metadata": {},
   "source": [
    "# Steady state solution"
   ]
  },
  {
   "cell_type": "code",
   "execution_count": 43,
   "metadata": {},
   "outputs": [],
   "source": [
    "using gmsh\n",
    "\n",
    "using LinearAlgebra, SparseArrays\n",
    "using WriteVTK\n",
    "\n",
    "using BenchmarkTools\n",
    "\n",
    "include(\"../constants.jl\")\n",
    "include(\"../get_mesh_data.jl\")\n",
    "include(\"../process.jl\")\n",
    "include(\"../definitions/general.jl\")\n",
    "include(\"../definitions/assemble_Kf.jl\")\n",
    "\n",
    "const MESH_LOCATION = \"../../mesh/transformer_stedin.msh\"\n",
    "const OUTPUT_LOCATION = \"../../out/\"\n",
    "\n",
    "using Logging"
   ]
  },
  {
   "cell_type": "code",
   "execution_count": 44,
   "metadata": {},
   "outputs": [
    {
     "name": "stdout",
     "output_type": "stream",
     "text": [
      "Info    : Reading '../../mesh/transformer_stedin.msh'...\n",
      "Info    : 168 entities\n",
      "Info    : 10385 nodes\n",
      "Info    : 20768 elements\n",
      "Info    : Done reading '../../mesh/transformer_stedin.msh'\n"
     ]
    }
   ],
   "source": [
    "gmsh.open(MESH_LOCATION)\n",
    "mshdata = get_mesh_data();"
   ]
  },
  {
   "attachments": {},
   "cell_type": "markdown",
   "metadata": {},
   "source": [
    "## Problem definition\n",
    "\n",
    "Find $A_z$ in the system\n",
    "$$ -\\nabla \\times \\left[\\frac{1}{\\mu}\\nabla A_z\\right] = \\mathbf J_0, $$\n",
    "where\n",
    "- $A_z$ is the current density in the $z$ direction.\n",
    "- $\\mu$ is the permeability of the core.\n",
    "- $\\mathbf J_0$ is the imposed source current density.\n",
    "- $\\sigma$: the conductivity of the material (not used)."
   ]
  },
  {
   "attachments": {},
   "cell_type": "markdown",
   "metadata": {},
   "source": [
    "### Parameters"
   ]
  },
  {
   "cell_type": "code",
   "execution_count": 45,
   "metadata": {},
   "outputs": [],
   "source": [
    "\"Primary peak phase current\"\n",
    "Ip = 0;\n",
    "\n",
    "\"Secondary peak phase current\"\n",
    "Is = 777.62;\n",
    "\n",
    "Np = 266;\n",
    "Ns = 6;\n",
    "\n",
    "# Calculate current density in the windings\n",
    "Jp = Np * Ip / Awhv;\n",
    "Js = Ns * Is / Awlv;\n",
    "\n",
    "# Vacuum permeability\n",
    "μ_0 = 4e-7 * pi;\n",
    "\n",
    "# Relative permeability of the core\n",
    "μ_r = 1000;    "
   ]
  },
  {
   "attachments": {},
   "cell_type": "markdown",
   "metadata": {},
   "source": [
    "### Source, linear reluctivity per element (no conductivity due to steady state)\n"
   ]
  },
  {
   "cell_type": "code",
   "execution_count": 46,
   "metadata": {},
   "outputs": [],
   "source": [
    "source_per_element = map(\n",
    "    id -> source(Jp, Js, id),\n",
    "    mshdata.e_group\n",
    ");\n",
    "\n",
    "reluctivity_per_element = map(\n",
    "    id -> linear_reluctivity(μ_0, μ_r, id),\n",
    "    mshdata.e_group\n",
    ");\n",
    "\n",
    "conductivity_per_element = map(\n",
    "    id -> 0,\n",
    "    mshdata.e_group\n",
    ");"
   ]
  },
  {
   "attachments": {},
   "cell_type": "markdown",
   "metadata": {},
   "source": [
    "## System of equations"
   ]
  },
  {
   "cell_type": "code",
   "execution_count": 56,
   "metadata": {},
   "outputs": [
    {
     "name": "stdout",
     "output_type": "stream",
     "text": [
      "  0.126435 seconds (1.51 M allocations: 115.180 MiB, 6.54% gc time)\n",
      "elapsed time (ns):  126435400\n",
      "gc time (ns):       8274100\n",
      "bytes allocated:    120775392\n",
      "pool allocs:        1512049\n",
      "non-pool GC allocs: 2\n",
      "malloc() calls:     14\n",
      "realloc() calls:    1\n",
      "free() calls:       15\n",
      "minor collections:  2\n",
      "full collections:   0\n"
     ]
    }
   ],
   "source": [
    "@timev K, f = assemble_Kf(mshdata,source_per_element,reluctivity_per_element);\n",
    "\n",
    "# stop printing stuff bro\n",
    "nothing"
   ]
  },
  {
   "attachments": {},
   "cell_type": "markdown",
   "metadata": {},
   "source": [
    "How long does this take?"
   ]
  },
  {
   "cell_type": "code",
   "execution_count": 39,
   "metadata": {},
   "outputs": [
    {
     "ename": "MethodError",
     "evalue": "MethodError: no method matching Vector{Int64}(::typeof(zero), ::Int64)\nClosest candidates are:\n  Vector{T}(!Matched::UndefInitializer, ::Int64) where T at boot.jl:459\n  Array{T, N}(!Matched::UndefInitializer, ::Int64...) where {T, N} at boot.jl:465\n  Vector{T}(!Matched::UndefInitializer, ::Integer) where T at baseext.jl:23\n  ...",
     "output_type": "error",
     "traceback": [
      "MethodError: no method matching Vector{Int64}(::typeof(zero), ::Int64)\n",
      "Closest candidates are:\n",
      "  Vector{T}(!Matched::UndefInitializer, ::Int64) where T at boot.jl:459\n",
      "  Array{T, N}(!Matched::UndefInitializer, ::Int64...) where {T, N} at boot.jl:465\n",
      "  Vector{T}(!Matched::UndefInitializer, ::Integer) where T at baseext.jl:23\n",
      "  ...\n",
      "\n",
      "Stacktrace:\n",
      " [1] FastSparse(nelements::Int64)\n",
      "   @ Main c:\\Users\\aukes\\Documents\\repos\\git\\am-transformers\\src\\definitions\\assemble_Kf.jl:10\n",
      " [2] assemble_Kf(mesh_data::mesh_data, source_per_element::Matrix{ComplexF64}, reluctivity_per_element::Matrix{Float64})\n",
      "   @ Main c:\\Users\\aukes\\Documents\\repos\\git\\am-transformers\\src\\definitions\\assemble_Kf.jl:49\n",
      " [3] top-level scope\n",
      "   @ .\\timing.jl:346 [inlined]\n",
      " [4] top-level scope\n",
      "   @ c:\\Users\\aukes\\Documents\\repos\\git\\am-transformers\\src\\models\\steady_state.ipynb:0"
     ]
    }
   ],
   "source": [
    "# @timev K, f = assemble_Kf(mshdata, source_per_element, reluctivity_per_element);"
   ]
  },
  {
   "attachments": {},
   "cell_type": "markdown",
   "metadata": {},
   "source": [
    "Solve the system."
   ]
  },
  {
   "cell_type": "code",
   "execution_count": 28,
   "metadata": {},
   "outputs": [],
   "source": [
    "u = K \\ f;"
   ]
  },
  {
   "attachments": {},
   "cell_type": "markdown",
   "metadata": {},
   "source": [
    "## Post"
   ]
  },
  {
   "cell_type": "code",
   "execution_count": 15,
   "metadata": {},
   "outputs": [],
   "source": [
    "# Post-process for magnetic field and current density\n",
    "omega = 0\n",
    "B, H, Wm, Jel = process(mshdata, u, source_per_element, reluctivity_per_element, conductivity_per_element, omega);\n",
    "Bnorm = norm.(sqrt.(B[1].^2 + B[2].^2));"
   ]
  },
  {
   "attachments": {},
   "cell_type": "markdown",
   "metadata": {},
   "source": [
    "Save the result"
   ]
  },
  {
   "cell_type": "code",
   "execution_count": 16,
   "metadata": {},
   "outputs": [
    {
     "name": "stdout",
     "output_type": "stream",
     "text": [
      "Saving result in a file... Done.\n"
     ]
    }
   ],
   "source": [
    "# Define nodes (points) and elements (cells)\n",
    "points = [mshdata.xnode mshdata.ynode]';\n",
    "cells = [MeshCell(VTKCellTypes.VTK_TRIANGLE, el) for el in mshdata.elements];\n",
    "\n",
    "# Create VTK file structure using nodes and elements\n",
    "vtkfile = vtk_grid(string(OUTPUT_LOCATION, \"transformer9.vtu\"), points, cells);\n",
    "\n",
    "\n",
    "# Store data in the VTK file\n",
    "vtkfile[\"Az\", VTKPointData()]   = norm.(u);\n",
    "vtkfile[\"imA\", VTKPointData()]  = imag.(u);\n",
    "vtkfile[\"Bnorm\", VTKCellData()] = Bnorm;\n",
    "vtkfile[\"B_vec\", VTKCellData()] = real.(B);\n",
    "vtkfile[\"Jel\", VTKCellData()]   = Jel;\n",
    "\n",
    "\n",
    "# Save the file\n",
    "print(\"Saving result in a file...\")\n",
    "outfiles = vtk_save(vtkfile);\n",
    "println(\" Done.\")"
   ]
  },
  {
   "cell_type": "code",
   "execution_count": null,
   "metadata": {},
   "outputs": [],
   "source": []
  }
 ],
 "metadata": {
  "kernelspec": {
   "display_name": "Julia 1.8.5",
   "language": "julia",
   "name": "julia-1.8"
  },
  "language_info": {
   "file_extension": ".jl",
   "mimetype": "application/julia",
   "name": "julia",
   "version": "1.8.5"
  },
  "orig_nbformat": 4
 },
 "nbformat": 4,
 "nbformat_minor": 2
}
