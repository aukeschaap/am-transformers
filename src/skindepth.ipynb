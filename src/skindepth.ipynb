{
 "cells": [
  {
   "attachments": {},
   "cell_type": "markdown",
   "metadata": {},
   "source": [
    "# Skin Depth\n",
    "\n",
    "The skin depth is given by the following formula:\n",
    "\n",
    "$$\n",
    "\\delta = \\sqrt{\\frac{2 \\rho}{\\omega \\mu}}\n",
    "$$"
   ]
  },
  {
   "cell_type": "code",
   "execution_count": 25,
   "metadata": {},
   "outputs": [
    {
     "data": {
      "text/plain": [
       "skindepth (generic function with 1 method)"
      ]
     },
     "metadata": {},
     "output_type": "display_data"
    }
   ],
   "source": [
    "function skindepth(μ, ρ, ω)\n",
    "    return sqrt(\n",
    "        (2ρ) / (ω * μ)\n",
    "    )\n",
    "end"
   ]
  },
  {
   "attachments": {},
   "cell_type": "markdown",
   "metadata": {},
   "source": [
    "This calculation is heavily dependend on the parameters chosen. The parameters are:\n",
    "\n",
    "- $\\rho$: The resistivity of the conductor. For an iron core, this is taken as $\\rho = 9.71 \\cdot 10^{-8}$ $\\Omega \\! \\cdot \\! \\text{m}$.\n",
    "\n",
    "- $\\mu$: The permeability of the conductor, given by $\\mu_r \\mu_0$\n",
    "\n",
    "- $\\mu_r$: The relative magnetic permeability of the conductor. For an iron core, this is somewhere around $10^3$. Therefore, this is chosen as $\\mu_r = 1000$\n",
    "\n",
    "- $\\mu_0$: The permeability of free space. This is generally taken as $\\mu_0 = 4 \\pi \\cdot 10^{-7}$ $\\text{H/m}$.\n",
    "\n",
    "- $\\omega$: The angular frequency of current, given by $2 \\pi f$, where $f$ is the frequency. This is variable in our case."
   ]
  },
  {
   "cell_type": "code",
   "execution_count": 26,
   "metadata": {},
   "outputs": [],
   "source": [
    "\"Resistivity of the core material\"\n",
    "ρ = 9.71e-8;\n",
    "\n",
    "\"Permeabality of free space\"\n",
    "μ_0 = 4e-7 * pi;\n",
    "\n",
    "\"Relative permeability of the core\"\n",
    "μ_r = 1000;"
   ]
  },
  {
   "cell_type": "code",
   "execution_count": 29,
   "metadata": {},
   "outputs": [
    {
     "name": "stdout",
     "output_type": "stream",
     "text": [
      "Skin depth at 50 Hz: 0.701 mm\n",
      "Skin depth at 100 Hz: 0.496 mm\n",
      "Skin depth at 150 Hz: 0.405 mm\n",
      "Skin depth at 200 Hz: 0.351 mm\n",
      "Skin depth at 500 Hz: 0.222 mm\n",
      "Skin depth at 1000 Hz: 0.157 mm\n"
     ]
    }
   ],
   "source": [
    "delta(f) = skindepth(μ_0 * μ_r, ρ, 2π * f)\n",
    "\n",
    "frequencies = [50, 100, 150, 200, 500, 1000]\n",
    "for f in frequencies\n",
    "    println(\"Skin depth at $f Hz: \", round(delta(f) * 1000, digits=3), \" mm\")\n",
    "end"
   ]
  }
 ],
 "metadata": {
  "kernelspec": {
   "display_name": "Julia 1.8.5",
   "language": "julia",
   "name": "julia-1.8"
  },
  "language_info": {
   "file_extension": ".jl",
   "mimetype": "application/julia",
   "name": "julia",
   "version": "1.8.5"
  },
  "orig_nbformat": 4
 },
 "nbformat": 4,
 "nbformat_minor": 2
}
